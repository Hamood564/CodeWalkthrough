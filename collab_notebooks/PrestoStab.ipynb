{
  "nbformat": 4,
  "nbformat_minor": 0,
  "metadata": {
    "colab": {
      "provenance": []
    },
    "kernelspec": {
      "name": "python3",
      "display_name": "Python 3"
    },
    "language_info": {
      "name": "python"
    }
  },
  "cells": [
    {
      "cell_type": "code",
      "metadata": {
        "id": "4T5zVatuLcsL"
      },
      "source": [
        "# Import necessary libraries\n",
        "import numpy as np\n",
        "import pandas as pd\n",
        "\n",
        "from sklearn.metrics import accuracy_score\n",
        "from sklearn.linear_model import LogisticRegression\n",
        "from sklearn.model_selection import train_test_split"
      ],
      "execution_count": null,
      "outputs": []
    },
    {
      "cell_type": "code",
      "metadata": {
        "colab": {
          "base_uri": "https://localhost:8080/",
          "height": 240
        },
        "id": "PzpBXntwO1pQ",
        "outputId": "35c3433f-3fe2-4091-965b-90b9c795d5ab"
      },
      "source": [
        "# Load the data\n",
        "data = pd.read_excel(\"/content/PrestoFillStab.xlsx\")\n",
        "\n",
        "# View the data\n",
        "data.tail()"
      ],
      "execution_count": null,
      "outputs": [
        {
          "output_type": "execute_result",
          "data": {
            "text/html": [
              "<div>\n",
              "<style scoped>\n",
              "    .dataframe tbody tr th:only-of-type {\n",
              "        vertical-align: middle;\n",
              "    }\n",
              "\n",
              "    .dataframe tbody tr th {\n",
              "        vertical-align: top;\n",
              "    }\n",
              "\n",
              "    .dataframe thead th {\n",
              "        text-align: right;\n",
              "    }\n",
              "</style>\n",
              "<table border=\"1\" class=\"dataframe\">\n",
              "  <thead>\n",
              "    <tr style=\"text-align: right;\">\n",
              "      <th></th>\n",
              "      <th>TestVolume (litres)</th>\n",
              "      <th>Configuration</th>\n",
              "      <th>Test Pressure (mbar) /10</th>\n",
              "      <th>Final Result Code (1=Pass)</th>\n",
              "      <th>Fill time (s) / 1000</th>\n",
              "      <th>Stabilisation Time(s)/1000</th>\n",
              "    </tr>\n",
              "  </thead>\n",
              "  <tbody>\n",
              "    <tr>\n",
              "      <th>11071</th>\n",
              "      <td>0.1</td>\n",
              "      <td>0</td>\n",
              "      <td>15500</td>\n",
              "      <td>1</td>\n",
              "      <td>1000</td>\n",
              "      <td>25000</td>\n",
              "    </tr>\n",
              "    <tr>\n",
              "      <th>11072</th>\n",
              "      <td>0.1</td>\n",
              "      <td>0</td>\n",
              "      <td>15500</td>\n",
              "      <td>1</td>\n",
              "      <td>1000</td>\n",
              "      <td>25000</td>\n",
              "    </tr>\n",
              "    <tr>\n",
              "      <th>11073</th>\n",
              "      <td>0.1</td>\n",
              "      <td>0</td>\n",
              "      <td>15500</td>\n",
              "      <td>1</td>\n",
              "      <td>1000</td>\n",
              "      <td>25000</td>\n",
              "    </tr>\n",
              "    <tr>\n",
              "      <th>11074</th>\n",
              "      <td>0.1</td>\n",
              "      <td>0</td>\n",
              "      <td>15500</td>\n",
              "      <td>1</td>\n",
              "      <td>1000</td>\n",
              "      <td>25000</td>\n",
              "    </tr>\n",
              "    <tr>\n",
              "      <th>11075</th>\n",
              "      <td>0.1</td>\n",
              "      <td>0</td>\n",
              "      <td>15500</td>\n",
              "      <td>1</td>\n",
              "      <td>1000</td>\n",
              "      <td>25000</td>\n",
              "    </tr>\n",
              "  </tbody>\n",
              "</table>\n",
              "</div>"
            ],
            "text/plain": [
              "       TestVolume (litres)  ...  Stabilisation Time(s)/1000\n",
              "11071                  0.1  ...                       25000\n",
              "11072                  0.1  ...                       25000\n",
              "11073                  0.1  ...                       25000\n",
              "11074                  0.1  ...                       25000\n",
              "11075                  0.1  ...                       25000\n",
              "\n",
              "[5 rows x 6 columns]"
            ]
          },
          "metadata": {},
          "execution_count": 2
        }
      ]
    },
    {
      "cell_type": "code",
      "metadata": {
        "colab": {
          "base_uri": "https://localhost:8080/"
        },
        "id": "PLNdhpBjO1r4",
        "outputId": "9011efb5-d721-4826-aa4d-7463d191c489"
      },
      "source": [
        "# Check the shape of the dataset\n",
        "data.shape"
      ],
      "execution_count": null,
      "outputs": [
        {
          "output_type": "execute_result",
          "data": {
            "text/plain": [
              "(11076, 6)"
            ]
          },
          "metadata": {},
          "execution_count": 3
        }
      ]
    },
    {
      "cell_type": "code",
      "metadata": {
        "colab": {
          "base_uri": "https://localhost:8080/"
        },
        "id": "bGvvN9odO1uD",
        "outputId": "cac3b7a5-f1c6-4398-9ee1-e17def4c659d"
      },
      "source": [
        "\n",
        "# Check the column names of the dataset\n",
        "data.dtypes"
      ],
      "execution_count": null,
      "outputs": [
        {
          "output_type": "execute_result",
          "data": {
            "text/plain": [
              "TestVolume (litres)           float64\n",
              "Configuration                   int64\n",
              "Test Pressure (mbar) /10        int64\n",
              "Final Result Code (1=Pass)      int64\n",
              "Fill time (s) / 1000            int64\n",
              "Stabilisation Time(s)/1000      int64\n",
              "dtype: object"
            ]
          },
          "metadata": {},
          "execution_count": 4
        }
      ]
    },
    {
      "cell_type": "code",
      "metadata": {
        "colab": {
          "base_uri": "https://localhost:8080/"
        },
        "id": "AxCmi9b6O1wQ",
        "outputId": "4eacbe80-dc81-4664-85fa-d95a933353e9"
      },
      "source": [
        "# Count the number of observations per result\n",
        "data['Stabilisation Time(s)/1000'].value_counts()"
      ],
      "execution_count": null,
      "outputs": [
        {
          "output_type": "execute_result",
          "data": {
            "text/plain": [
              "25000    5727\n",
              "60000    2528\n",
              "90000    1202\n",
              "70000     322\n",
              "31000      12\n",
              "         ... \n",
              "62250       1\n",
              "37750       1\n",
              "13250       1\n",
              "74800       1\n",
              "53250       1\n",
              "Name: Stabilisation Time(s)/1000, Length: 443, dtype: int64"
            ]
          },
          "metadata": {},
          "execution_count": 5
        }
      ]
    },
    {
      "cell_type": "code",
      "metadata": {
        "id": "ErlUKEyeO1yi"
      },
      "source": [
        "# Split the data int X and y\n",
        "X = data.drop(['Fill time (s) / 1000','Configuration','Stabilisation Time(s)/1000'], axis=1)\n",
        "y = data[['Stabilisation Time(s)/1000']]"
      ],
      "execution_count": null,
      "outputs": []
    },
    {
      "cell_type": "code",
      "metadata": {
        "id": "Nkl9GqxWO10h"
      },
      "source": [
        "# Split the data for training and testing at a ratio of 80/20\n",
        "X_train, X_test, y_train, y_test = train_test_split(X,y , test_size = 0.2)"
      ],
      "execution_count": null,
      "outputs": []
    },
    {
      "cell_type": "code",
      "metadata": {
        "colab": {
          "base_uri": "https://localhost:8080/"
        },
        "id": "CczUcwPyYr6O",
        "outputId": "2a01d726-832e-436c-e5fc-795ff9cae00b"
      },
      "source": [
        "print(y_train)"
      ],
      "execution_count": null,
      "outputs": [
        {
          "output_type": "stream",
          "name": "stdout",
          "text": [
            "       Stabilisation Time(s)/1000\n",
            "285                         25000\n",
            "9839                        25000\n",
            "8060                        25000\n",
            "10770                       25000\n",
            "669                         25000\n",
            "...                           ...\n",
            "10023                       25000\n",
            "2825                        60000\n",
            "3727                        60000\n",
            "1496                        60000\n",
            "10114                       25000\n",
            "\n",
            "[8860 rows x 1 columns]\n"
          ]
        }
      ]
    },
    {
      "cell_type": "code",
      "metadata": {
        "colab": {
          "base_uri": "https://localhost:8080/"
        },
        "id": "Oaqff-9YO12Z",
        "outputId": "11c38674-308a-40f3-83f9-31ae40ceb638"
      },
      "source": [
        "print(X_train)"
      ],
      "execution_count": null,
      "outputs": [
        {
          "output_type": "stream",
          "name": "stdout",
          "text": [
            "       TestVolume (litres)  ...  Final Result Code (1=Pass)\n",
            "285                    0.1  ...                           1\n",
            "9839                   0.1  ...                           1\n",
            "8060                   0.1  ...                           4\n",
            "10770                  0.1  ...                           1\n",
            "669                    0.1  ...                           1\n",
            "...                    ...  ...                         ...\n",
            "10023                  0.1  ...                           1\n",
            "2825                   0.4  ...                           1\n",
            "3727                   0.4  ...                          13\n",
            "1496                   0.2  ...                           1\n",
            "10114                  0.1  ...                           1\n",
            "\n",
            "[8860 rows x 3 columns]\n"
          ]
        }
      ]
    },
    {
      "cell_type": "code",
      "metadata": {
        "colab": {
          "base_uri": "https://localhost:8080/"
        },
        "id": "0mKW6t9cO14h",
        "outputId": "ae6d417e-3f69-4752-ebd1-2fe3bcd0eb17"
      },
      "source": [
        "np.isnan(data.any())"
      ],
      "execution_count": null,
      "outputs": [
        {
          "output_type": "execute_result",
          "data": {
            "text/plain": [
              "TestVolume (litres)           False\n",
              "Configuration                 False\n",
              "Test Pressure (mbar) /10      False\n",
              "Final Result Code (1=Pass)    False\n",
              "Fill time (s) / 1000          False\n",
              "Stabilisation Time(s)/1000    False\n",
              "dtype: bool"
            ]
          },
          "metadata": {},
          "execution_count": 10
        }
      ]
    },
    {
      "cell_type": "code",
      "metadata": {
        "colab": {
          "base_uri": "https://localhost:8080/"
        },
        "id": "OO_qVsahO16q",
        "outputId": "c0b49a31-16f7-4040-eb40-0315793f6b5a"
      },
      "source": [
        "np.isfinite(data.all())"
      ],
      "execution_count": null,
      "outputs": [
        {
          "output_type": "execute_result",
          "data": {
            "text/plain": [
              "TestVolume (litres)           True\n",
              "Configuration                 True\n",
              "Test Pressure (mbar) /10      True\n",
              "Final Result Code (1=Pass)    True\n",
              "Fill time (s) / 1000          True\n",
              "Stabilisation Time(s)/1000    True\n",
              "dtype: bool"
            ]
          },
          "metadata": {},
          "execution_count": 11
        }
      ]
    },
    {
      "cell_type": "code",
      "metadata": {
        "id": "e8pHQ2ljPr0B"
      },
      "source": [
        "X_train = X_train.astype(float)"
      ],
      "execution_count": null,
      "outputs": []
    },
    {
      "cell_type": "code",
      "metadata": {
        "colab": {
          "base_uri": "https://localhost:8080/",
          "height": 422
        },
        "id": "ecg1XUZSPr2f",
        "outputId": "3af39d55-7643-4891-f3cd-b91cea8a110c"
      },
      "source": [
        "X_train.drop(X_train.columns[np.isnan(X_train).any()], axis=1)"
      ],
      "execution_count": null,
      "outputs": [
        {
          "output_type": "execute_result",
          "data": {
            "text/html": [
              "<div>\n",
              "<style scoped>\n",
              "    .dataframe tbody tr th:only-of-type {\n",
              "        vertical-align: middle;\n",
              "    }\n",
              "\n",
              "    .dataframe tbody tr th {\n",
              "        vertical-align: top;\n",
              "    }\n",
              "\n",
              "    .dataframe thead th {\n",
              "        text-align: right;\n",
              "    }\n",
              "</style>\n",
              "<table border=\"1\" class=\"dataframe\">\n",
              "  <thead>\n",
              "    <tr style=\"text-align: right;\">\n",
              "      <th></th>\n",
              "      <th>TestVolume (litres)</th>\n",
              "      <th>Test Pressure (mbar) /10</th>\n",
              "      <th>Final Result Code (1=Pass)</th>\n",
              "    </tr>\n",
              "  </thead>\n",
              "  <tbody>\n",
              "    <tr>\n",
              "      <th>285</th>\n",
              "      <td>0.1</td>\n",
              "      <td>15500.0</td>\n",
              "      <td>1.0</td>\n",
              "    </tr>\n",
              "    <tr>\n",
              "      <th>9839</th>\n",
              "      <td>0.1</td>\n",
              "      <td>15500.0</td>\n",
              "      <td>1.0</td>\n",
              "    </tr>\n",
              "    <tr>\n",
              "      <th>8060</th>\n",
              "      <td>0.1</td>\n",
              "      <td>22600.0</td>\n",
              "      <td>4.0</td>\n",
              "    </tr>\n",
              "    <tr>\n",
              "      <th>10770</th>\n",
              "      <td>0.1</td>\n",
              "      <td>15500.0</td>\n",
              "      <td>1.0</td>\n",
              "    </tr>\n",
              "    <tr>\n",
              "      <th>669</th>\n",
              "      <td>0.1</td>\n",
              "      <td>15500.0</td>\n",
              "      <td>1.0</td>\n",
              "    </tr>\n",
              "    <tr>\n",
              "      <th>...</th>\n",
              "      <td>...</td>\n",
              "      <td>...</td>\n",
              "      <td>...</td>\n",
              "    </tr>\n",
              "    <tr>\n",
              "      <th>10023</th>\n",
              "      <td>0.1</td>\n",
              "      <td>15500.0</td>\n",
              "      <td>1.0</td>\n",
              "    </tr>\n",
              "    <tr>\n",
              "      <th>2825</th>\n",
              "      <td>0.4</td>\n",
              "      <td>15500.0</td>\n",
              "      <td>1.0</td>\n",
              "    </tr>\n",
              "    <tr>\n",
              "      <th>3727</th>\n",
              "      <td>0.4</td>\n",
              "      <td>15500.0</td>\n",
              "      <td>13.0</td>\n",
              "    </tr>\n",
              "    <tr>\n",
              "      <th>1496</th>\n",
              "      <td>0.2</td>\n",
              "      <td>15500.0</td>\n",
              "      <td>1.0</td>\n",
              "    </tr>\n",
              "    <tr>\n",
              "      <th>10114</th>\n",
              "      <td>0.1</td>\n",
              "      <td>15500.0</td>\n",
              "      <td>1.0</td>\n",
              "    </tr>\n",
              "  </tbody>\n",
              "</table>\n",
              "<p>8860 rows × 3 columns</p>\n",
              "</div>"
            ],
            "text/plain": [
              "       TestVolume (litres)  ...  Final Result Code (1=Pass)\n",
              "285                    0.1  ...                         1.0\n",
              "9839                   0.1  ...                         1.0\n",
              "8060                   0.1  ...                         4.0\n",
              "10770                  0.1  ...                         1.0\n",
              "669                    0.1  ...                         1.0\n",
              "...                    ...  ...                         ...\n",
              "10023                  0.1  ...                         1.0\n",
              "2825                   0.4  ...                         1.0\n",
              "3727                   0.4  ...                        13.0\n",
              "1496                   0.2  ...                         1.0\n",
              "10114                  0.1  ...                         1.0\n",
              "\n",
              "[8860 rows x 3 columns]"
            ]
          },
          "metadata": {},
          "execution_count": 13
        }
      ]
    },
    {
      "cell_type": "code",
      "metadata": {
        "colab": {
          "base_uri": "https://localhost:8080/"
        },
        "id": "_phc1qiXPr4w",
        "outputId": "7c712c64-1fd3-4916-c6c6-5976d5327dcd"
      },
      "source": [
        "X_train.dtypes"
      ],
      "execution_count": null,
      "outputs": [
        {
          "output_type": "execute_result",
          "data": {
            "text/plain": [
              "TestVolume (litres)           float64\n",
              "Test Pressure (mbar) /10      float64\n",
              "Final Result Code (1=Pass)    float64\n",
              "dtype: object"
            ]
          },
          "metadata": {},
          "execution_count": 14
        }
      ]
    },
    {
      "cell_type": "code",
      "metadata": {
        "colab": {
          "base_uri": "https://localhost:8080/"
        },
        "id": "9aoTfGRfPr7K",
        "outputId": "77e47a9f-13a3-489d-9b7a-f17d3204e517"
      },
      "source": [
        "y_train.dtypes"
      ],
      "execution_count": null,
      "outputs": [
        {
          "output_type": "execute_result",
          "data": {
            "text/plain": [
              "Stabilisation Time(s)/1000    int64\n",
              "dtype: object"
            ]
          },
          "metadata": {},
          "execution_count": 15
        }
      ]
    },
    {
      "cell_type": "code",
      "metadata": {
        "colab": {
          "base_uri": "https://localhost:8080/",
          "height": 299
        },
        "id": "WvIkfr7yPr9Z",
        "outputId": "f9e66b13-cdf1-4471-c918-4864777ed851"
      },
      "source": [
        "X_train.describe()"
      ],
      "execution_count": null,
      "outputs": [
        {
          "output_type": "execute_result",
          "data": {
            "text/html": [
              "<div>\n",
              "<style scoped>\n",
              "    .dataframe tbody tr th:only-of-type {\n",
              "        vertical-align: middle;\n",
              "    }\n",
              "\n",
              "    .dataframe tbody tr th {\n",
              "        vertical-align: top;\n",
              "    }\n",
              "\n",
              "    .dataframe thead th {\n",
              "        text-align: right;\n",
              "    }\n",
              "</style>\n",
              "<table border=\"1\" class=\"dataframe\">\n",
              "  <thead>\n",
              "    <tr style=\"text-align: right;\">\n",
              "      <th></th>\n",
              "      <th>TestVolume (litres)</th>\n",
              "      <th>Test Pressure (mbar) /10</th>\n",
              "      <th>Final Result Code (1=Pass)</th>\n",
              "    </tr>\n",
              "  </thead>\n",
              "  <tbody>\n",
              "    <tr>\n",
              "      <th>count</th>\n",
              "      <td>8860.000000</td>\n",
              "      <td>8860.000000</td>\n",
              "      <td>8860.000000</td>\n",
              "    </tr>\n",
              "    <tr>\n",
              "      <th>mean</th>\n",
              "      <td>1.723363</td>\n",
              "      <td>16590.090293</td>\n",
              "      <td>2.662528</td>\n",
              "    </tr>\n",
              "    <tr>\n",
              "      <th>std</th>\n",
              "      <td>3.287559</td>\n",
              "      <td>4243.286231</td>\n",
              "      <td>3.736691</td>\n",
              "    </tr>\n",
              "    <tr>\n",
              "      <th>min</th>\n",
              "      <td>0.100000</td>\n",
              "      <td>10000.000000</td>\n",
              "      <td>1.000000</td>\n",
              "    </tr>\n",
              "    <tr>\n",
              "      <th>25%</th>\n",
              "      <td>0.100000</td>\n",
              "      <td>15500.000000</td>\n",
              "      <td>1.000000</td>\n",
              "    </tr>\n",
              "    <tr>\n",
              "      <th>50%</th>\n",
              "      <td>0.200000</td>\n",
              "      <td>15500.000000</td>\n",
              "      <td>1.000000</td>\n",
              "    </tr>\n",
              "    <tr>\n",
              "      <th>75%</th>\n",
              "      <td>0.800000</td>\n",
              "      <td>15500.000000</td>\n",
              "      <td>1.000000</td>\n",
              "    </tr>\n",
              "    <tr>\n",
              "      <th>max</th>\n",
              "      <td>10.000000</td>\n",
              "      <td>49800.000000</td>\n",
              "      <td>13.000000</td>\n",
              "    </tr>\n",
              "  </tbody>\n",
              "</table>\n",
              "</div>"
            ],
            "text/plain": [
              "       TestVolume (litres)  ...  Final Result Code (1=Pass)\n",
              "count          8860.000000  ...                 8860.000000\n",
              "mean              1.723363  ...                    2.662528\n",
              "std               3.287559  ...                    3.736691\n",
              "min               0.100000  ...                    1.000000\n",
              "25%               0.100000  ...                    1.000000\n",
              "50%               0.200000  ...                    1.000000\n",
              "75%               0.800000  ...                    1.000000\n",
              "max              10.000000  ...                   13.000000\n",
              "\n",
              "[8 rows x 3 columns]"
            ]
          },
          "metadata": {},
          "execution_count": 16
        }
      ]
    },
    {
      "cell_type": "code",
      "metadata": {
        "colab": {
          "base_uri": "https://localhost:8080/"
        },
        "id": "CWedHBiLPr_w",
        "outputId": "fc7695ec-6f53-4335-8dda-6374746a3bc2"
      },
      "source": [
        "np.where(X_train.values >= np.finfo(np.float64).max)"
      ],
      "execution_count": null,
      "outputs": [
        {
          "output_type": "execute_result",
          "data": {
            "text/plain": [
              "(array([], dtype=int64), array([], dtype=int64))"
            ]
          },
          "metadata": {},
          "execution_count": 17
        }
      ]
    },
    {
      "cell_type": "code",
      "metadata": {
        "id": "4MqjU4k3P-IJ"
      },
      "source": [
        "X_train.fillna(X_train.mean(), inplace=True)"
      ],
      "execution_count": null,
      "outputs": []
    },
    {
      "cell_type": "code",
      "metadata": {
        "colab": {
          "base_uri": "https://localhost:8080/"
        },
        "id": "KYNsdIB8ZwBI",
        "outputId": "36ee9794-8e45-4be5-fbf4-52291ebcbc19"
      },
      "source": [
        "print(X_train.shape)\n",
        "print(y_train.shape)\n",
        "print(X_test.shape)\n",
        "print(y_test.shape)"
      ],
      "execution_count": null,
      "outputs": [
        {
          "output_type": "stream",
          "name": "stdout",
          "text": [
            "(8860, 3)\n",
            "(8860, 1)\n",
            "(2216, 3)\n",
            "(2216, 1)\n"
          ]
        }
      ]
    },
    {
      "cell_type": "code",
      "metadata": {
        "colab": {
          "base_uri": "https://localhost:8080/"
        },
        "id": "hnbszmXWP-Ku",
        "outputId": "59521692-91a7-4c6f-ee75-e1f32d1b307d"
      },
      "source": [
        "# Train a logistic regression model\n",
        "model = LogisticRegression(C=1.0, class_weight=None, dual=False, fit_intercept=True,\n",
        "                   intercept_scaling=1, l1_ratio=None, max_iter=5000,\n",
        "                   multi_class='auto', n_jobs=None, penalty='l2',\n",
        "                   random_state=None, solver='lbfgs', tol=0.0001, verbose=0,\n",
        "                   warm_start=False)\n",
        "model.fit(X_train, y_train)\n"
      ],
      "execution_count": null,
      "outputs": [
        {
          "output_type": "stream",
          "name": "stderr",
          "text": [
            "/usr/local/lib/python3.7/dist-packages/sklearn/utils/validation.py:760: DataConversionWarning: A column-vector y was passed when a 1d array was expected. Please change the shape of y to (n_samples, ), for example using ravel().\n",
            "  y = column_or_1d(y, warn=True)\n"
          ]
        },
        {
          "output_type": "execute_result",
          "data": {
            "text/plain": [
              "LogisticRegression(C=1.0, class_weight=None, dual=False, fit_intercept=True,\n",
              "                   intercept_scaling=1, l1_ratio=None, max_iter=5000,\n",
              "                   multi_class='auto', n_jobs=None, penalty='l2',\n",
              "                   random_state=None, solver='lbfgs', tol=0.0001, verbose=0,\n",
              "                   warm_start=False)"
            ]
          },
          "metadata": {},
          "execution_count": 21
        }
      ]
    },
    {
      "cell_type": "code",
      "metadata": {
        "colab": {
          "base_uri": "https://localhost:8080/"
        },
        "id": "Mka9n-eXP-NJ",
        "outputId": "283c8518-192a-4a48-96ed-691ea3924db9"
      },
      "source": [
        "# Run prediction and print acuracy score\n",
        "y_pred = model.predict(X_test)\n",
        "print(accuracy_score(y_test, y_pred))"
      ],
      "execution_count": null,
      "outputs": [
        {
          "output_type": "stream",
          "name": "stdout",
          "text": [
            "0.5717509025270758\n"
          ]
        }
      ]
    },
    {
      "cell_type": "code",
      "metadata": {
        "colab": {
          "base_uri": "https://localhost:8080/"
        },
        "id": "3hCmMToBO180",
        "outputId": "3e06a6f7-3509-4e34-a154-68aed85a20a5"
      },
      "source": [
        "# Run a test prediction\n",
        "model.predict(np.array([[0.1,15500,1]]))"
      ],
      "execution_count": null,
      "outputs": [
        {
          "output_type": "execute_result",
          "data": {
            "text/plain": [
              "array([25000])"
            ]
          },
          "metadata": {},
          "execution_count": 23
        }
      ]
    },
    {
      "cell_type": "code",
      "metadata": {
        "id": "lNkoaZbaQ8UK"
      },
      "source": [
        "# Save the model (serialize)\n",
        "import pickle\n",
        "pickle.dump(model, open(\"PrestoStab.pkl\", \"wb\"))"
      ],
      "execution_count": null,
      "outputs": []
    },
    {
      "cell_type": "code",
      "metadata": {
        "id": "WRc5-oO1Q8Wp"
      },
      "source": [
        "# Relaod the model  (deseralize)\n",
        "model_pk = pickle.load(open(\"PrestoFil.pkl\", \"rb\"))"
      ],
      "execution_count": null,
      "outputs": []
    },
    {
      "cell_type": "code",
      "metadata": {
        "colab": {
          "base_uri": "https://localhost:8080/"
        },
        "id": "CaSLltHpQ8ZL",
        "outputId": "130d1b3c-f001-409a-9a64-68c3a97edab6"
      },
      "source": [
        "# Rerun predictions\n",
        "model_pk.predict(np.array([[0.8,0,2]]))"
      ],
      "execution_count": null,
      "outputs": [
        {
          "output_type": "execute_result",
          "data": {
            "text/plain": [
              "array([25000])"
            ]
          },
          "metadata": {},
          "execution_count": 53
        }
      ]
    }
  ]
}