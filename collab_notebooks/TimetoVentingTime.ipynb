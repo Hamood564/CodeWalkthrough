{
  "nbformat": 4,
  "nbformat_minor": 0,
  "metadata": {
    "colab": {
      "provenance": []
    },
    "kernelspec": {
      "name": "python3",
      "display_name": "Python 3"
    },
    "language_info": {
      "name": "python"
    }
  },
  "cells": [
    {
      "cell_type": "code",
      "metadata": {
        "id": "4T5zVatuLcsL"
      },
      "source": [
        "# Import necessary libraries\n",
        "import numpy as np\n",
        "import pandas as pd\n",
        "\n",
        "from sklearn.metrics import accuracy_score\n",
        "from sklearn.linear_model import LogisticRegression\n",
        "from sklearn.model_selection import train_test_split"
      ],
      "execution_count": null,
      "outputs": []
    },
    {
      "cell_type": "code",
      "metadata": {
        "colab": {
          "base_uri": "https://localhost:8080/",
          "height": 205
        },
        "id": "PzpBXntwO1pQ",
        "outputId": "f2384c70-6dfe-4512-b4f5-a8a6cb5969de"
      },
      "source": [
        "# Load the data\n",
        "data = pd.read_excel(\"/content/TimetoVentingTimex.xlsx\")\n",
        "\n",
        "# View the data\n",
        "data.tail()"
      ],
      "execution_count": null,
      "outputs": [
        {
          "output_type": "execute_result",
          "data": {
            "text/html": [
              "<div>\n",
              "<style scoped>\n",
              "    .dataframe tbody tr th:only-of-type {\n",
              "        vertical-align: middle;\n",
              "    }\n",
              "\n",
              "    .dataframe tbody tr th {\n",
              "        vertical-align: top;\n",
              "    }\n",
              "\n",
              "    .dataframe thead th {\n",
              "        text-align: right;\n",
              "    }\n",
              "</style>\n",
              "<table border=\"1\" class=\"dataframe\">\n",
              "  <thead>\n",
              "    <tr style=\"text-align: right;\">\n",
              "      <th></th>\n",
              "      <th>TestVolume (litres)</th>\n",
              "      <th>Final Result Code (1=Pass)</th>\n",
              "      <th>Fill time (s) / 1000</th>\n",
              "      <th>Stabilisation Time(s)/1000</th>\n",
              "      <th>Measuring Time (s)/1000</th>\n",
              "      <th>Venting time(s)/1000</th>\n",
              "    </tr>\n",
              "  </thead>\n",
              "  <tbody>\n",
              "    <tr>\n",
              "      <th>11071</th>\n",
              "      <td>0.1</td>\n",
              "      <td>1</td>\n",
              "      <td>1000</td>\n",
              "      <td>25000</td>\n",
              "      <td>2000</td>\n",
              "      <td>2000</td>\n",
              "    </tr>\n",
              "    <tr>\n",
              "      <th>11072</th>\n",
              "      <td>0.1</td>\n",
              "      <td>1</td>\n",
              "      <td>1000</td>\n",
              "      <td>25000</td>\n",
              "      <td>2000</td>\n",
              "      <td>2000</td>\n",
              "    </tr>\n",
              "    <tr>\n",
              "      <th>11073</th>\n",
              "      <td>0.1</td>\n",
              "      <td>1</td>\n",
              "      <td>1000</td>\n",
              "      <td>25000</td>\n",
              "      <td>2000</td>\n",
              "      <td>2000</td>\n",
              "    </tr>\n",
              "    <tr>\n",
              "      <th>11074</th>\n",
              "      <td>0.1</td>\n",
              "      <td>1</td>\n",
              "      <td>1000</td>\n",
              "      <td>25000</td>\n",
              "      <td>2000</td>\n",
              "      <td>2000</td>\n",
              "    </tr>\n",
              "    <tr>\n",
              "      <th>11075</th>\n",
              "      <td>0.1</td>\n",
              "      <td>1</td>\n",
              "      <td>1000</td>\n",
              "      <td>25000</td>\n",
              "      <td>2000</td>\n",
              "      <td>2000</td>\n",
              "    </tr>\n",
              "  </tbody>\n",
              "</table>\n",
              "</div>"
            ],
            "text/plain": [
              "       TestVolume (litres)  ...  Venting time(s)/1000\n",
              "11071                  0.1  ...                  2000\n",
              "11072                  0.1  ...                  2000\n",
              "11073                  0.1  ...                  2000\n",
              "11074                  0.1  ...                  2000\n",
              "11075                  0.1  ...                  2000\n",
              "\n",
              "[5 rows x 6 columns]"
            ]
          },
          "metadata": {},
          "execution_count": 2
        }
      ]
    },
    {
      "cell_type": "code",
      "metadata": {
        "colab": {
          "base_uri": "https://localhost:8080/"
        },
        "id": "PLNdhpBjO1r4",
        "outputId": "580dcdea-c742-4b40-9c94-2d3d52438d3a"
      },
      "source": [
        "# Check the shape of the dataset\n",
        "data.shape"
      ],
      "execution_count": null,
      "outputs": [
        {
          "output_type": "execute_result",
          "data": {
            "text/plain": [
              "(11076, 6)"
            ]
          },
          "metadata": {},
          "execution_count": 3
        }
      ]
    },
    {
      "cell_type": "code",
      "metadata": {
        "colab": {
          "base_uri": "https://localhost:8080/"
        },
        "id": "bGvvN9odO1uD",
        "outputId": "8ccc408e-0667-41e7-c1e5-5b0bfd0d9a4e"
      },
      "source": [
        "\n",
        "# Check the column names of the dataset\n",
        "data.dtypes"
      ],
      "execution_count": null,
      "outputs": [
        {
          "output_type": "execute_result",
          "data": {
            "text/plain": [
              "TestVolume (litres)           float64\n",
              "Final Result Code (1=Pass)      int64\n",
              "Fill time (s) / 1000            int64\n",
              "Stabilisation Time(s)/1000      int64\n",
              "Measuring Time (s)/1000         int64\n",
              "Venting time(s)/1000            int64\n",
              "dtype: object"
            ]
          },
          "metadata": {},
          "execution_count": 4
        }
      ]
    },
    {
      "cell_type": "code",
      "metadata": {
        "colab": {
          "base_uri": "https://localhost:8080/"
        },
        "id": "AxCmi9b6O1wQ",
        "outputId": "ef1a9b02-ba96-4e19-bad1-997d0b4cbe19"
      },
      "source": [
        "# Count the number of observations per result\n",
        "data['Venting time(s)/1000'].value_counts()"
      ],
      "execution_count": null,
      "outputs": [
        {
          "output_type": "execute_result",
          "data": {
            "text/plain": [
              "2000     6191\n",
              "12000    1530\n",
              "20000    1305\n",
              "10000    1292\n",
              "40000     758\n",
              "Name: Venting time(s)/1000, dtype: int64"
            ]
          },
          "metadata": {},
          "execution_count": 5
        }
      ]
    },
    {
      "cell_type": "code",
      "metadata": {
        "id": "ErlUKEyeO1yi"
      },
      "source": [
        "# Split the data int X and y\n",
        "X = data.drop(['Venting time(s)/1000'], axis=1)\n",
        "y = data[['Venting time(s)/1000']]"
      ],
      "execution_count": null,
      "outputs": []
    },
    {
      "cell_type": "code",
      "metadata": {
        "id": "Nkl9GqxWO10h"
      },
      "source": [
        "# Split the data for training and testing at a ratio of 80/20\n",
        "X_train, X_test, y_train, y_test = train_test_split(X,y , test_size = 0.2)"
      ],
      "execution_count": null,
      "outputs": []
    },
    {
      "cell_type": "code",
      "metadata": {
        "colab": {
          "base_uri": "https://localhost:8080/"
        },
        "id": "CczUcwPyYr6O",
        "outputId": "f479202a-2475-44c0-9268-c45b07480a8c"
      },
      "source": [
        "print(y_train)"
      ],
      "execution_count": null,
      "outputs": [
        {
          "output_type": "stream",
          "name": "stdout",
          "text": [
            "       Venting time(s)/1000\n",
            "2434                  10000\n",
            "3869                  12000\n",
            "10824                  2000\n",
            "1112                   2000\n",
            "1389                  10000\n",
            "...                     ...\n",
            "10817                  2000\n",
            "5343                  20000\n",
            "5255                  20000\n",
            "10628                  2000\n",
            "10870                  2000\n",
            "\n",
            "[8860 rows x 1 columns]\n"
          ]
        }
      ]
    },
    {
      "cell_type": "code",
      "metadata": {
        "colab": {
          "base_uri": "https://localhost:8080/"
        },
        "id": "Oaqff-9YO12Z",
        "outputId": "963ad3bb-3f0d-4f84-ac0f-abf4c865479a"
      },
      "source": [
        "print(X_train)"
      ],
      "execution_count": null,
      "outputs": [
        {
          "output_type": "stream",
          "name": "stdout",
          "text": [
            "       TestVolume (litres)  ...  Measuring Time (s)/1000\n",
            "2434                   0.2  ...                    20000\n",
            "3869                   0.4  ...                    20000\n",
            "10824                  0.1  ...                     2000\n",
            "1112                   0.1  ...                     2000\n",
            "1389                   0.2  ...                    20000\n",
            "...                    ...  ...                      ...\n",
            "10817                  0.1  ...                     2000\n",
            "5343                   0.8  ...                    20000\n",
            "5255                   0.8  ...                    20000\n",
            "10628                  0.1  ...                     2000\n",
            "10870                  0.1  ...                     2000\n",
            "\n",
            "[8860 rows x 5 columns]\n"
          ]
        }
      ]
    },
    {
      "cell_type": "code",
      "metadata": {
        "colab": {
          "base_uri": "https://localhost:8080/"
        },
        "id": "0mKW6t9cO14h",
        "outputId": "c5aa28cf-0791-4a79-f47f-cec8b7644c19"
      },
      "source": [
        "np.isnan(data.any())"
      ],
      "execution_count": null,
      "outputs": [
        {
          "output_type": "execute_result",
          "data": {
            "text/plain": [
              "TestVolume (litres)           False\n",
              "Final Result Code (1=Pass)    False\n",
              "Fill time (s) / 1000          False\n",
              "Stabilisation Time(s)/1000    False\n",
              "Measuring Time (s)/1000       False\n",
              "Venting time(s)/1000          False\n",
              "dtype: bool"
            ]
          },
          "metadata": {},
          "execution_count": 11
        }
      ]
    },
    {
      "cell_type": "code",
      "metadata": {
        "colab": {
          "base_uri": "https://localhost:8080/"
        },
        "id": "OO_qVsahO16q",
        "outputId": "66c5a9e6-62ce-4d4b-a05b-5f076dd54e16"
      },
      "source": [
        "np.isfinite(data.all())"
      ],
      "execution_count": null,
      "outputs": [
        {
          "output_type": "execute_result",
          "data": {
            "text/plain": [
              "TestVolume (litres)           True\n",
              "Final Result Code (1=Pass)    True\n",
              "Fill time (s) / 1000          True\n",
              "Stabilisation Time(s)/1000    True\n",
              "Measuring Time (s)/1000       True\n",
              "Venting time(s)/1000          True\n",
              "dtype: bool"
            ]
          },
          "metadata": {},
          "execution_count": 12
        }
      ]
    },
    {
      "cell_type": "code",
      "metadata": {
        "id": "e8pHQ2ljPr0B"
      },
      "source": [
        "X_train = X_train.astype(float)"
      ],
      "execution_count": null,
      "outputs": []
    },
    {
      "cell_type": "code",
      "metadata": {
        "colab": {
          "base_uri": "https://localhost:8080/",
          "height": 422
        },
        "id": "ecg1XUZSPr2f",
        "outputId": "bceca42d-326c-451a-bc08-163b88fe9853"
      },
      "source": [
        "X_train.drop(X_train.columns[np.isnan(X_train).any()], axis=1)"
      ],
      "execution_count": null,
      "outputs": [
        {
          "output_type": "execute_result",
          "data": {
            "text/html": [
              "<div>\n",
              "<style scoped>\n",
              "    .dataframe tbody tr th:only-of-type {\n",
              "        vertical-align: middle;\n",
              "    }\n",
              "\n",
              "    .dataframe tbody tr th {\n",
              "        vertical-align: top;\n",
              "    }\n",
              "\n",
              "    .dataframe thead th {\n",
              "        text-align: right;\n",
              "    }\n",
              "</style>\n",
              "<table border=\"1\" class=\"dataframe\">\n",
              "  <thead>\n",
              "    <tr style=\"text-align: right;\">\n",
              "      <th></th>\n",
              "      <th>TestVolume (litres)</th>\n",
              "      <th>Final Result Code (1=Pass)</th>\n",
              "      <th>Fill time (s) / 1000</th>\n",
              "      <th>Stabilisation Time(s)/1000</th>\n",
              "      <th>Measuring Time (s)/1000</th>\n",
              "    </tr>\n",
              "  </thead>\n",
              "  <tbody>\n",
              "    <tr>\n",
              "      <th>2434</th>\n",
              "      <td>0.2</td>\n",
              "      <td>1.0</td>\n",
              "      <td>10000.0</td>\n",
              "      <td>60000.0</td>\n",
              "      <td>20000.0</td>\n",
              "    </tr>\n",
              "    <tr>\n",
              "      <th>3869</th>\n",
              "      <td>0.4</td>\n",
              "      <td>1.0</td>\n",
              "      <td>12000.0</td>\n",
              "      <td>60000.0</td>\n",
              "      <td>20000.0</td>\n",
              "    </tr>\n",
              "    <tr>\n",
              "      <th>10824</th>\n",
              "      <td>0.1</td>\n",
              "      <td>1.0</td>\n",
              "      <td>1000.0</td>\n",
              "      <td>25000.0</td>\n",
              "      <td>2000.0</td>\n",
              "    </tr>\n",
              "    <tr>\n",
              "      <th>1112</th>\n",
              "      <td>0.1</td>\n",
              "      <td>1.0</td>\n",
              "      <td>2000.0</td>\n",
              "      <td>25000.0</td>\n",
              "      <td>2000.0</td>\n",
              "    </tr>\n",
              "    <tr>\n",
              "      <th>1389</th>\n",
              "      <td>0.2</td>\n",
              "      <td>1.0</td>\n",
              "      <td>10000.0</td>\n",
              "      <td>60000.0</td>\n",
              "      <td>20000.0</td>\n",
              "    </tr>\n",
              "    <tr>\n",
              "      <th>...</th>\n",
              "      <td>...</td>\n",
              "      <td>...</td>\n",
              "      <td>...</td>\n",
              "      <td>...</td>\n",
              "      <td>...</td>\n",
              "    </tr>\n",
              "    <tr>\n",
              "      <th>10817</th>\n",
              "      <td>0.1</td>\n",
              "      <td>1.0</td>\n",
              "      <td>1000.0</td>\n",
              "      <td>25000.0</td>\n",
              "      <td>2000.0</td>\n",
              "    </tr>\n",
              "    <tr>\n",
              "      <th>5343</th>\n",
              "      <td>0.8</td>\n",
              "      <td>1.0</td>\n",
              "      <td>18000.0</td>\n",
              "      <td>90000.0</td>\n",
              "      <td>20000.0</td>\n",
              "    </tr>\n",
              "    <tr>\n",
              "      <th>5255</th>\n",
              "      <td>0.8</td>\n",
              "      <td>1.0</td>\n",
              "      <td>18000.0</td>\n",
              "      <td>90000.0</td>\n",
              "      <td>20000.0</td>\n",
              "    </tr>\n",
              "    <tr>\n",
              "      <th>10628</th>\n",
              "      <td>0.1</td>\n",
              "      <td>1.0</td>\n",
              "      <td>1000.0</td>\n",
              "      <td>25000.0</td>\n",
              "      <td>2000.0</td>\n",
              "    </tr>\n",
              "    <tr>\n",
              "      <th>10870</th>\n",
              "      <td>0.1</td>\n",
              "      <td>1.0</td>\n",
              "      <td>1000.0</td>\n",
              "      <td>25000.0</td>\n",
              "      <td>2000.0</td>\n",
              "    </tr>\n",
              "  </tbody>\n",
              "</table>\n",
              "<p>8860 rows × 5 columns</p>\n",
              "</div>"
            ],
            "text/plain": [
              "       TestVolume (litres)  ...  Measuring Time (s)/1000\n",
              "2434                   0.2  ...                  20000.0\n",
              "3869                   0.4  ...                  20000.0\n",
              "10824                  0.1  ...                   2000.0\n",
              "1112                   0.1  ...                   2000.0\n",
              "1389                   0.2  ...                  20000.0\n",
              "...                    ...  ...                      ...\n",
              "10817                  0.1  ...                   2000.0\n",
              "5343                   0.8  ...                  20000.0\n",
              "5255                   0.8  ...                  20000.0\n",
              "10628                  0.1  ...                   2000.0\n",
              "10870                  0.1  ...                   2000.0\n",
              "\n",
              "[8860 rows x 5 columns]"
            ]
          },
          "metadata": {},
          "execution_count": 14
        }
      ]
    },
    {
      "cell_type": "code",
      "metadata": {
        "colab": {
          "base_uri": "https://localhost:8080/"
        },
        "id": "_phc1qiXPr4w",
        "outputId": "da394425-372c-4b4e-d6a1-91ba9c7495dc"
      },
      "source": [
        "X_train.dtypes"
      ],
      "execution_count": null,
      "outputs": [
        {
          "output_type": "execute_result",
          "data": {
            "text/plain": [
              "TestVolume (litres)           float64\n",
              "Final Result Code (1=Pass)    float64\n",
              "Fill time (s) / 1000          float64\n",
              "Stabilisation Time(s)/1000    float64\n",
              "Measuring Time (s)/1000       float64\n",
              "dtype: object"
            ]
          },
          "metadata": {},
          "execution_count": 15
        }
      ]
    },
    {
      "cell_type": "code",
      "metadata": {
        "colab": {
          "base_uri": "https://localhost:8080/"
        },
        "id": "9aoTfGRfPr7K",
        "outputId": "56202533-e03f-434b-e61f-17f8e1a62953"
      },
      "source": [
        "y_train.dtypes"
      ],
      "execution_count": null,
      "outputs": [
        {
          "output_type": "execute_result",
          "data": {
            "text/plain": [
              "Venting time(s)/1000    int64\n",
              "dtype: object"
            ]
          },
          "metadata": {},
          "execution_count": 16
        }
      ]
    },
    {
      "cell_type": "code",
      "metadata": {
        "colab": {
          "base_uri": "https://localhost:8080/",
          "height": 299
        },
        "id": "WvIkfr7yPr9Z",
        "outputId": "35cf5f47-c2d9-426a-cb03-4d8c87044aae"
      },
      "source": [
        "X_train.describe()"
      ],
      "execution_count": null,
      "outputs": [
        {
          "output_type": "execute_result",
          "data": {
            "text/html": [
              "<div>\n",
              "<style scoped>\n",
              "    .dataframe tbody tr th:only-of-type {\n",
              "        vertical-align: middle;\n",
              "    }\n",
              "\n",
              "    .dataframe tbody tr th {\n",
              "        vertical-align: top;\n",
              "    }\n",
              "\n",
              "    .dataframe thead th {\n",
              "        text-align: right;\n",
              "    }\n",
              "</style>\n",
              "<table border=\"1\" class=\"dataframe\">\n",
              "  <thead>\n",
              "    <tr style=\"text-align: right;\">\n",
              "      <th></th>\n",
              "      <th>TestVolume (litres)</th>\n",
              "      <th>Final Result Code (1=Pass)</th>\n",
              "      <th>Fill time (s) / 1000</th>\n",
              "      <th>Stabilisation Time(s)/1000</th>\n",
              "      <th>Measuring Time (s)/1000</th>\n",
              "    </tr>\n",
              "  </thead>\n",
              "  <tbody>\n",
              "    <tr>\n",
              "      <th>count</th>\n",
              "      <td>8860.000000</td>\n",
              "      <td>8860.000000</td>\n",
              "      <td>8860.000000</td>\n",
              "      <td>8860.000000</td>\n",
              "      <td>8860.000000</td>\n",
              "    </tr>\n",
              "    <tr>\n",
              "      <th>mean</th>\n",
              "      <td>1.743363</td>\n",
              "      <td>2.680135</td>\n",
              "      <td>11353.085779</td>\n",
              "      <td>43340.897291</td>\n",
              "      <td>15027.268623</td>\n",
              "    </tr>\n",
              "    <tr>\n",
              "      <th>std</th>\n",
              "      <td>3.309437</td>\n",
              "      <td>3.754510</td>\n",
              "      <td>12642.878955</td>\n",
              "      <td>24157.281739</td>\n",
              "      <td>14971.746812</td>\n",
              "    </tr>\n",
              "    <tr>\n",
              "      <th>min</th>\n",
              "      <td>0.100000</td>\n",
              "      <td>1.000000</td>\n",
              "      <td>1000.000000</td>\n",
              "      <td>1000.000000</td>\n",
              "      <td>50.000000</td>\n",
              "    </tr>\n",
              "    <tr>\n",
              "      <th>25%</th>\n",
              "      <td>0.100000</td>\n",
              "      <td>1.000000</td>\n",
              "      <td>2000.000000</td>\n",
              "      <td>25000.000000</td>\n",
              "      <td>2000.000000</td>\n",
              "    </tr>\n",
              "    <tr>\n",
              "      <th>50%</th>\n",
              "      <td>0.200000</td>\n",
              "      <td>1.000000</td>\n",
              "      <td>9600.000000</td>\n",
              "      <td>25000.000000</td>\n",
              "      <td>9625.000000</td>\n",
              "    </tr>\n",
              "    <tr>\n",
              "      <th>75%</th>\n",
              "      <td>0.800000</td>\n",
              "      <td>1.000000</td>\n",
              "      <td>18000.000000</td>\n",
              "      <td>60000.000000</td>\n",
              "      <td>20000.000000</td>\n",
              "    </tr>\n",
              "    <tr>\n",
              "      <th>max</th>\n",
              "      <td>10.000000</td>\n",
              "      <td>13.000000</td>\n",
              "      <td>93000.000000</td>\n",
              "      <td>129400.000000</td>\n",
              "      <td>100000.000000</td>\n",
              "    </tr>\n",
              "  </tbody>\n",
              "</table>\n",
              "</div>"
            ],
            "text/plain": [
              "       TestVolume (litres)  ...  Measuring Time (s)/1000\n",
              "count          8860.000000  ...              8860.000000\n",
              "mean              1.743363  ...             15027.268623\n",
              "std               3.309437  ...             14971.746812\n",
              "min               0.100000  ...                50.000000\n",
              "25%               0.100000  ...              2000.000000\n",
              "50%               0.200000  ...              9625.000000\n",
              "75%               0.800000  ...             20000.000000\n",
              "max              10.000000  ...            100000.000000\n",
              "\n",
              "[8 rows x 5 columns]"
            ]
          },
          "metadata": {},
          "execution_count": 17
        }
      ]
    },
    {
      "cell_type": "code",
      "metadata": {
        "colab": {
          "base_uri": "https://localhost:8080/"
        },
        "id": "CWedHBiLPr_w",
        "outputId": "b70d59d9-ccc1-47d1-8e76-7651a92958a2"
      },
      "source": [
        "np.where(X_train.values >= np.finfo(np.float64).max)"
      ],
      "execution_count": null,
      "outputs": [
        {
          "output_type": "execute_result",
          "data": {
            "text/plain": [
              "(array([], dtype=int64), array([], dtype=int64))"
            ]
          },
          "metadata": {},
          "execution_count": 18
        }
      ]
    },
    {
      "cell_type": "code",
      "metadata": {
        "id": "4MqjU4k3P-IJ"
      },
      "source": [
        "X_train.fillna(X_train.mean(), inplace=True)"
      ],
      "execution_count": null,
      "outputs": []
    },
    {
      "cell_type": "code",
      "metadata": {
        "colab": {
          "base_uri": "https://localhost:8080/"
        },
        "id": "KYNsdIB8ZwBI",
        "outputId": "a9e0f6f1-2d09-4867-8338-efba78054d12"
      },
      "source": [
        "print(X_train.shape)\n",
        "print(y_train.shape)\n",
        "print(X_test.shape)\n",
        "print(y_test.shape)"
      ],
      "execution_count": null,
      "outputs": [
        {
          "output_type": "stream",
          "name": "stdout",
          "text": [
            "(8860, 5)\n",
            "(8860, 1)\n",
            "(2216, 5)\n",
            "(2216, 1)\n"
          ]
        }
      ]
    },
    {
      "cell_type": "code",
      "metadata": {
        "colab": {
          "base_uri": "https://localhost:8080/"
        },
        "id": "hnbszmXWP-Ku",
        "outputId": "c9b520ec-3a1c-46fb-d45c-64be8dda7ae5"
      },
      "source": [
        "# Train a logistic regression model\n",
        "model = LogisticRegression(C=1.0, class_weight=None, dual=False, fit_intercept=True,\n",
        "                   intercept_scaling=1, l1_ratio=None, max_iter=5000,\n",
        "                   multi_class='auto', n_jobs=None, penalty='l2',\n",
        "                   random_state=None, solver='lbfgs', tol=0.0001, verbose=0,\n",
        "                   warm_start=False)\n",
        "model.fit(X_train, y_train)\n"
      ],
      "execution_count": null,
      "outputs": [
        {
          "output_type": "stream",
          "name": "stderr",
          "text": [
            "/usr/local/lib/python3.7/dist-packages/sklearn/utils/validation.py:760: DataConversionWarning: A column-vector y was passed when a 1d array was expected. Please change the shape of y to (n_samples, ), for example using ravel().\n",
            "  y = column_or_1d(y, warn=True)\n"
          ]
        },
        {
          "output_type": "execute_result",
          "data": {
            "text/plain": [
              "LogisticRegression(C=1.0, class_weight=None, dual=False, fit_intercept=True,\n",
              "                   intercept_scaling=1, l1_ratio=None, max_iter=5000,\n",
              "                   multi_class='auto', n_jobs=None, penalty='l2',\n",
              "                   random_state=None, solver='lbfgs', tol=0.0001, verbose=0,\n",
              "                   warm_start=False)"
            ]
          },
          "metadata": {},
          "execution_count": 27
        }
      ]
    },
    {
      "cell_type": "code",
      "metadata": {
        "colab": {
          "base_uri": "https://localhost:8080/"
        },
        "id": "Mka9n-eXP-NJ",
        "outputId": "8ed36933-8350-4a51-84f9-5af3aa12fe97"
      },
      "source": [
        "# Run prediction and print acuracy score\n",
        "y_pred = model.predict(X_test)\n",
        "print(accuracy_score(y_test, y_pred))"
      ],
      "execution_count": null,
      "outputs": [
        {
          "output_type": "stream",
          "name": "stdout",
          "text": [
            "0.6944945848375451\n"
          ]
        }
      ]
    },
    {
      "cell_type": "code",
      "metadata": {
        "colab": {
          "base_uri": "https://localhost:8080/"
        },
        "id": "3hCmMToBO180",
        "outputId": "a8ec28bd-fd81-4c18-98c3-87f16a2d7048"
      },
      "source": [
        "# Run a test prediction\n",
        "model.predict(np.array([[0.1,1,1000,25000,1000]]))"
      ],
      "execution_count": null,
      "outputs": [
        {
          "output_type": "execute_result",
          "data": {
            "text/plain": [
              "array([2000])"
            ]
          },
          "metadata": {},
          "execution_count": 29
        }
      ]
    },
    {
      "cell_type": "code",
      "metadata": {
        "id": "lNkoaZbaQ8UK"
      },
      "source": [
        "# Save the model (serialize)\n",
        "import pickle\n",
        "pickle.dump(model, open(\"TimetoVenting.pkl\", \"wb\"))"
      ],
      "execution_count": null,
      "outputs": []
    },
    {
      "cell_type": "code",
      "metadata": {
        "id": "WRc5-oO1Q8Wp"
      },
      "source": [
        "# Relaod the model  (deseralize)\n",
        "model_pk = pickle.load(open(\"TimetoVenting.pkl\", \"rb\"))"
      ],
      "execution_count": null,
      "outputs": []
    },
    {
      "cell_type": "code",
      "metadata": {
        "colab": {
          "base_uri": "https://localhost:8080/"
        },
        "id": "CaSLltHpQ8ZL",
        "outputId": "2dbe4134-5191-4057-eeff-264897587c3c"
      },
      "source": [
        "# Rerun predictions\n",
        "model_pk.predict(np.array([[0.8,1,5000,1000,1000]]))"
      ],
      "execution_count": null,
      "outputs": [
        {
          "output_type": "execute_result",
          "data": {
            "text/plain": [
              "array([2000])"
            ]
          },
          "metadata": {},
          "execution_count": 32
        }
      ]
    }
  ]
}